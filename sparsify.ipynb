{
 "cells": [
  {
   "cell_type": "markdown",
   "metadata": {},
   "source": [
    "## Importing Stuff"
   ]
  },
  {
   "cell_type": "code",
   "execution_count": 2,
   "metadata": {},
   "outputs": [],
   "source": [
    "from PIL import Image\n",
    "import matplotlib.pyplot as plt\n",
    "\n",
    "import torchvision.transforms as T\n",
    "import time\n",
    "import onnxruntime\n",
    "import numpy as np\n",
    "import torch\n",
    "from models import build_model\n",
    "from argparse import Namespace\n",
    "import os\n",
    "from typing import Any, Callable, Union\n",
    "\n",
    "from torch import Tensor\n",
    "from torch.nn import Module\n",
    "from torch.optim import SGD\n",
    "from torch.optim.optimizer import Optimizer\n",
    "from torch.utils.data import DataLoader, Dataset\n",
    "\n",
    "import math, onnx\n",
    "\n",
    "from sparseml.pytorch.optim import ScheduledModifierManager, ScheduledOptimizer\n",
    "from sparseml.pytorch.utils import PythonLogger, TensorBoardLogger\n"
   ]
  },
  {
   "cell_type": "code",
   "execution_count": 5,
   "metadata": {},
   "outputs": [
    {
     "ename": "AttributeError",
     "evalue": "named_modules",
     "output_type": "error",
     "traceback": [
      "\u001b[0;31m---------------------------------------------------------------------------\u001b[0m",
      "\u001b[0;31mAttributeError\u001b[0m                            Traceback (most recent call last)",
      "\u001b[1;32m/home/maelic/Documents/PhD/ModelZoo/SGG/RelTR/sparsify.ipynb Cell 3\u001b[0m in \u001b[0;36m<cell line: 12>\u001b[0;34m()\u001b[0m\n\u001b[1;32m     <a href='vscode-notebook-cell:/home/maelic/Documents/PhD/ModelZoo/SGG/RelTR/sparsify.ipynb#W2sZmlsZQ%3D%3D?line=9'>10</a>\u001b[0m \u001b[39mfrom\u001b[39;00m \u001b[39msparseml\u001b[39;00m\u001b[39m.\u001b[39;00m\u001b[39mpytorch\u001b[39;00m\u001b[39m.\u001b[39;00m\u001b[39moptim\u001b[39;00m \u001b[39mimport\u001b[39;00m ScheduledModifierManager\n\u001b[1;32m     <a href='vscode-notebook-cell:/home/maelic/Documents/PhD/ModelZoo/SGG/RelTR/sparsify.ipynb#W2sZmlsZQ%3D%3D?line=10'>11</a>\u001b[0m manager \u001b[39m=\u001b[39m ScheduledModifierManager\u001b[39m.\u001b[39mfrom_yaml(\u001b[39m\"\u001b[39m\u001b[39mconfig.yaml\u001b[39m\u001b[39m\"\u001b[39m)\n\u001b[0;32m---> <a href='vscode-notebook-cell:/home/maelic/Documents/PhD/ModelZoo/SGG/RelTR/sparsify.ipynb#W2sZmlsZQ%3D%3D?line=11'>12</a>\u001b[0m manager\u001b[39m.\u001b[39;49mapply(model)\n",
      "File \u001b[0;32m~/.local/lib/python3.8/site-packages/sparseml/pytorch/optim/manager.py:409\u001b[0m, in \u001b[0;36mScheduledModifierManager.apply\u001b[0;34m(self, module, epoch, loggers, finalize, **kwargs)\u001b[0m\n\u001b[1;32m    401\u001b[0m modifier_lists \u001b[39m=\u001b[39m (\n\u001b[1;32m    402\u001b[0m     \u001b[39mself\u001b[39m\u001b[39m.\u001b[39m_modifiers\n\u001b[1;32m    403\u001b[0m     \u001b[39mif\u001b[39;00m \u001b[39misinstance\u001b[39m(\u001b[39mself\u001b[39m\u001b[39m.\u001b[39m_modifiers, List)\n\u001b[1;32m    404\u001b[0m     \u001b[39melse\u001b[39;00m \u001b[39mlist\u001b[39m(\u001b[39mself\u001b[39m\u001b[39m.\u001b[39m_modifiers\u001b[39m.\u001b[39mvalues())\n\u001b[1;32m    405\u001b[0m )\n\u001b[1;32m    407\u001b[0m \u001b[39mfor\u001b[39;00m modifier_list \u001b[39min\u001b[39;00m modifier_lists:\n\u001b[0;32m--> 409\u001b[0m     \u001b[39mself\u001b[39;49m\u001b[39m.\u001b[39;49m_initialize_modifiers(\n\u001b[1;32m    410\u001b[0m         modifier_list, module, epoch, loggers\u001b[39m=\u001b[39;49mloggers, \u001b[39m*\u001b[39;49m\u001b[39m*\u001b[39;49mkwargs\n\u001b[1;32m    411\u001b[0m     )\n\u001b[1;32m    413\u001b[0m     \u001b[39mif\u001b[39;00m finalize:\n\u001b[1;32m    414\u001b[0m         \u001b[39mself\u001b[39m\u001b[39m.\u001b[39m_finalize_modifiers(modifier_list, module, \u001b[39m*\u001b[39m\u001b[39m*\u001b[39mkwargs)\n",
      "File \u001b[0;32m~/.local/lib/python3.8/site-packages/sparseml/pytorch/optim/manager.py:691\u001b[0m, in \u001b[0;36mScheduledModifierManager._initialize_modifiers\u001b[0;34m(self, modifiers, module, epoch, loggers, **kwargs)\u001b[0m\n\u001b[1;32m    687\u001b[0m \u001b[39mif\u001b[39;00m mod\u001b[39m.\u001b[39minitialized:\n\u001b[1;32m    688\u001b[0m     \u001b[39m# check in case modifier was initialized from apply_structure\u001b[39;00m\n\u001b[1;32m    689\u001b[0m     \u001b[39mcontinue\u001b[39;00m\n\u001b[0;32m--> 691\u001b[0m mod\u001b[39m.\u001b[39;49minitialize(module, epoch, loggers, \u001b[39m*\u001b[39;49m\u001b[39m*\u001b[39;49mkwargs)\n",
      "File \u001b[0;32m~/.local/lib/python3.8/site-packages/sparseml/pytorch/sparsification/pruning/modifier_pruning_base.py:294\u001b[0m, in \u001b[0;36mBasePruningModifier.initialize\u001b[0;34m(self, module, epoch, loggers, **kwargs)\u001b[0m\n\u001b[1;32m    283\u001b[0m \u001b[39m\"\"\"\u001b[39;00m\n\u001b[1;32m    284\u001b[0m \u001b[39mGrab the params and apply if epoch in range to control pruning for.\u001b[39;00m\n\u001b[1;32m    285\u001b[0m \n\u001b[0;32m   (...)\u001b[0m\n\u001b[1;32m    291\u001b[0m \u001b[39m    for individual modifiers.\u001b[39;00m\n\u001b[1;32m    292\u001b[0m \u001b[39m\"\"\"\u001b[39;00m\n\u001b[1;32m    293\u001b[0m \u001b[39msuper\u001b[39m()\u001b[39m.\u001b[39minitialize(module, epoch, loggers, \u001b[39m*\u001b[39m\u001b[39m*\u001b[39mkwargs)\n\u001b[0;32m--> 294\u001b[0m named_layers_and_params \u001b[39m=\u001b[39m \u001b[39mself\u001b[39;49m\u001b[39m.\u001b[39;49m_create_named_layers_and_params(module)\n\u001b[1;32m    295\u001b[0m layers \u001b[39m=\u001b[39m [nlp\u001b[39m.\u001b[39mlayer \u001b[39mfor\u001b[39;00m nlp \u001b[39min\u001b[39;00m named_layers_and_params]\n\u001b[1;32m    296\u001b[0m param_names \u001b[39m=\u001b[39m [nlp\u001b[39m.\u001b[39mparam_name \u001b[39mfor\u001b[39;00m nlp \u001b[39min\u001b[39;00m named_layers_and_params]\n",
      "File \u001b[0;32m~/.local/lib/python3.8/site-packages/sparseml/pytorch/sparsification/pruning/modifier_pruning_base.py:774\u001b[0m, in \u001b[0;36mBaseGradualPruningModifier._create_named_layers_and_params\u001b[0;34m(self, module)\u001b[0m\n\u001b[1;32m    772\u001b[0m \u001b[39mdef\u001b[39;00m \u001b[39m_create_named_layers_and_params\u001b[39m(\u001b[39mself\u001b[39m, module: Module) \u001b[39m-\u001b[39m\u001b[39m>\u001b[39m List[NamedLayerParam]:\n\u001b[1;32m    773\u001b[0m     \u001b[39mif\u001b[39;00m \u001b[39misinstance\u001b[39m(\u001b[39mself\u001b[39m\u001b[39m.\u001b[39m_final_sparsity_orig, \u001b[39mfloat\u001b[39m):\n\u001b[0;32m--> 774\u001b[0m         \u001b[39mreturn\u001b[39;00m \u001b[39msuper\u001b[39;49m()\u001b[39m.\u001b[39;49m_create_named_layers_and_params(module)\n\u001b[1;32m    776\u001b[0m     \u001b[39m# update NamedLayerParam values to account for final sparsities dict\u001b[39;00m\n\u001b[1;32m    778\u001b[0m     final_sparsities \u001b[39m=\u001b[39m []\n",
      "File \u001b[0;32m~/.local/lib/python3.8/site-packages/sparseml/pytorch/sparsification/pruning/modifier_pruning_base.py:529\u001b[0m, in \u001b[0;36mBasePruningModifier._create_named_layers_and_params\u001b[0;34m(self, module)\u001b[0m\n\u001b[1;32m    526\u001b[0m \u001b[39melse\u001b[39;00m:\n\u001b[1;32m    527\u001b[0m     param_names \u001b[39m=\u001b[39m \u001b[39mself\u001b[39m\u001b[39m.\u001b[39m_params\n\u001b[0;32m--> 529\u001b[0m \u001b[39mreturn\u001b[39;00m get_named_layers_and_params_by_regex(\n\u001b[1;32m    530\u001b[0m     module,\n\u001b[1;32m    531\u001b[0m     param_names,\n\u001b[1;32m    532\u001b[0m     params_strict\u001b[39m=\u001b[39;49m\u001b[39mTrue\u001b[39;49;00m,\n\u001b[1;32m    533\u001b[0m )\n",
      "File \u001b[0;32m~/.local/lib/python3.8/site-packages/sparseml/pytorch/utils/helpers.py:880\u001b[0m, in \u001b[0;36mget_named_layers_and_params_by_regex\u001b[0;34m(module, param_names, params_strict)\u001b[0m\n\u001b[1;32m    878\u001b[0m named_layers_and_params \u001b[39m=\u001b[39m []\n\u001b[1;32m    879\u001b[0m found_param_names \u001b[39m=\u001b[39m []\n\u001b[0;32m--> 880\u001b[0m \u001b[39mfor\u001b[39;00m layer_name, layer \u001b[39min\u001b[39;00m module\u001b[39m.\u001b[39;49mnamed_modules():\n\u001b[1;32m    881\u001b[0m     \u001b[39mfor\u001b[39;00m param_name, param \u001b[39min\u001b[39;00m layer\u001b[39m.\u001b[39mnamed_parameters():\n\u001b[1;32m    882\u001b[0m         \u001b[39mif\u001b[39;00m \u001b[39m\"\u001b[39m\u001b[39m.\u001b[39m\u001b[39m\"\u001b[39m \u001b[39min\u001b[39;00m param_name:  \u001b[39m# skip parameters of nested layers\u001b[39;00m\n",
      "\u001b[0;31mAttributeError\u001b[0m: named_modules"
     ]
    }
   ],
   "source": [
    "args = Namespace(lr_backbone=1e-05, dataset='vg', img_path='demo/vg1.jpg', backbone='resnet50', dilation=False, position_embedding='sine', \n",
    "enc_layers=6, dec_layers=6, dim_feedforward=2048, hidden_dim=256, dropout=0.1, nheads=8, num_entities=100, num_triplets=200, pre_norm=False, \n",
    "aux_loss=True, device='cpu', resume='ckpt/checkpoint0149.pth', set_cost_class=1, set_cost_bbox=5, set_cost_giou=2, set_iou_threshold=0.7, \n",
    "bbox_loss_coef=5, giou_loss_coef=2, rel_loss_coef=1, eos_coef=0.1, return_interm_layers=False)\n",
    "\n",
    "model, _, _ = build_model(args)\n",
    "\n",
    "model = onnx.load(\"normal_resolution.onnx\")\n",
    "\n",
    "from sparseml.pytorch.optim import ScheduledModifierManager\n",
    "manager = ScheduledModifierManager.from_yaml(\"config.yaml\")\n",
    "manager.apply(model)"
   ]
  }
 ],
 "metadata": {
  "kernelspec": {
   "display_name": "Python 3.8.13 ('phd')",
   "language": "python",
   "name": "python3"
  },
  "language_info": {
   "codemirror_mode": {
    "name": "ipython",
    "version": 3
   },
   "file_extension": ".py",
   "mimetype": "text/x-python",
   "name": "python",
   "nbconvert_exporter": "python",
   "pygments_lexer": "ipython3",
   "version": "3.8.13"
  },
  "orig_nbformat": 4,
  "vscode": {
   "interpreter": {
    "hash": "7938123ceb831a528202b02dbdb8fd920084013224d6ffd4fcb9a5f6f5074515"
   }
  }
 },
 "nbformat": 4,
 "nbformat_minor": 2
}

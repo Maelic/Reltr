{
 "cells": [
  {
   "cell_type": "code",
   "execution_count": 3,
   "metadata": {},
   "outputs": [
    {
     "name": "stderr",
     "output_type": "stream",
     "text": [
      "Checking \"images...\": 100%|██████████| 4855/4855 [00:00<00:00, 609389.09it/s]\n",
      "Checking \"categories...\": 100%|██████████| 130/130 [00:00<00:00, 693714.40it/s]\n",
      "Checking \"annotations\"...: 100%|██████████| 77203/77203 [00:09<00:00, 7855.85it/s]"
     ]
    },
    {
     "name": "stdout",
     "output_type": "stream",
     "text": [
      "category stats {126: 107, 129: 5091, 119: 2350, 89: 1339, 50: 586, 17: 727, 120: 884, 25: 663, 99: 411, 21: 326, 122: 178, 105: 976, 43: 514, 47: 2247, 48: 710, 67: 193, 30: 500, 52: 772, 8: 525, 78: 139, 62: 689, 88: 562, 84: 754, 130: 1926, 33: 495, 37: 777, 128: 143, 115: 2733, 61: 537, 98: 322, 31: 752, 70: 1216, 87: 2651, 1: 369, 40: 720, 9: 285, 24: 1822, 65: 862, 68: 735, 104: 1347, 5: 240, 15: 639, 23: 605, 11: 996, 75: 704, 83: 214, 39: 1578, 4: 186, 54: 1385, 121: 200, 58: 233, 96: 277, 10: 213, 19: 214, 18: 1229, 32: 1029, 108: 1088, 123: 843, 106: 266, 22: 817, 38: 284, 51: 887, 45: 624, 6: 297, 91: 311, 127: 595, 27: 125, 92: 411, 7: 976, 44: 342, 13: 1032, 102: 420, 59: 176, 56: 649, 42: 654, 112: 145, 35: 285, 113: 371, 95: 343, 34: 741, 69: 429, 124: 152, 14: 442, 64: 402, 26: 390, 71: 209, 28: 545, 77: 362, 66: 920, 101: 581, 110: 390, 125: 140, 82: 46, 36: 245, 111: 206, 90: 1610, 118: 526, 29: 316, 80: 224, 55: 116, 3: 589, 79: 286, 60: 136, 93: 287, 20: 134, 53: 951, 109: 264, 107: 149, 76: 429, 85: 299, 74: 227, 97: 348, 81: 233, 86: 148, 100: 157, 103: 300, 116: 184, 57: 201, 49: 244, 114: 366, 94: 115, 46: 144, 41: 127, 117: 170, 12: 142, 16: 337, 72: 183, 2: 100, 73: 119, 63: 24}.\n"
     ]
    },
    {
     "name": "stderr",
     "output_type": "stream",
     "text": [
      "\n"
     ]
    }
   ],
   "source": [
    "from cognitive_service_vision_model_customization_python_samples import AnnotationKind, Purpose\n",
    "import pathlib\n",
    "import json\n",
    "from coco_validator import check_coco_annotation_file\n",
    "\n",
    "coco_file_path = pathlib.Path(\"/home/maelic/Documents/PhD/Datasets/VisualGenome/IndoorVG/YOLO_anno/final_anno_IndoorVG/test_database.json\")\n",
    "annotation_kind = AnnotationKind.OBJECT_DETECTION # or AnnotationKind.OBJECT_DETECTION\n",
    "purpose = Purpose.TRAINING # or Purpose.EVALUATION\n",
    "\n",
    "check_coco_annotation_file(json.loads(coco_file_path.read_text()), annotation_kind, purpose)"
   ]
  }
 ],
 "metadata": {
  "kernelspec": {
   "display_name": "phd",
   "language": "python",
   "name": "python3"
  },
  "language_info": {
   "codemirror_mode": {
    "name": "ipython",
    "version": 3
   },
   "file_extension": ".py",
   "mimetype": "text/x-python",
   "name": "python",
   "nbconvert_exporter": "python",
   "pygments_lexer": "ipython3",
   "version": "3.8.13"
  },
  "orig_nbformat": 4
 },
 "nbformat": 4,
 "nbformat_minor": 2
}
